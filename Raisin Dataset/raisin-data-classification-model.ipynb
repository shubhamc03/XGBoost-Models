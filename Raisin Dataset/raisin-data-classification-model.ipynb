{
 "cells": [
  {
   "cell_type": "code",
   "execution_count": 1,
   "id": "fac4662f",
   "metadata": {
    "_cell_guid": "b1076dfc-b9ad-4769-8c92-a6c4dae69d19",
    "_uuid": "8f2839f25d086af736a60e9eeb907d3b93b6e0e5",
    "execution": {
     "iopub.execute_input": "2022-12-07T09:21:34.923928Z",
     "iopub.status.busy": "2022-12-07T09:21:34.922997Z",
     "iopub.status.idle": "2022-12-07T09:21:34.946341Z",
     "shell.execute_reply": "2022-12-07T09:21:34.945232Z"
    },
    "papermill": {
     "duration": 0.036211,
     "end_time": "2022-12-07T09:21:34.948930",
     "exception": false,
     "start_time": "2022-12-07T09:21:34.912719",
     "status": "completed"
    },
    "tags": []
   },
   "outputs": [
    {
     "name": "stdout",
     "output_type": "stream",
     "text": [
      "/kaggle/input/raisin-dataset/Raisin_Dataset.xlsx\n",
      "/kaggle/input/raisin-dataset/Raisin_Dataset.txt\n",
      "/kaggle/input/raisin-dataset/Raisin_Dataset.arff\n"
     ]
    }
   ],
   "source": [
    "# This Python 3 environment comes with many helpful analytics libraries installed\n",
    "# It is defined by the kaggle/python Docker image: https://github.com/kaggle/docker-python\n",
    "# For example, here's several helpful packages to load\n",
    "\n",
    "import numpy as np # linear algebra\n",
    "import pandas as pd # data processing, CSV file I/O (e.g. pd.read_csv)\n",
    "\n",
    "# Input data files are available in the read-only \"../input/\" directory\n",
    "# For example, running this (by clicking run or pressing Shift+Enter) will list all files under the input directory\n",
    "\n",
    "import os\n",
    "for dirname, _, filenames in os.walk('/kaggle/input'):\n",
    "    for filename in filenames:\n",
    "        print(os.path.join(dirname, filename))\n",
    "\n",
    "# You can write up to 20GB to the current directory (/kaggle/working/) that gets preserved as output when you create a version using \"Save & Run All\" \n",
    "# You can also write temporary files to /kaggle/temp/, but they won't be saved outside of the current session"
   ]
  },
  {
   "cell_type": "code",
   "execution_count": 2,
   "id": "1db5354f",
   "metadata": {
    "execution": {
     "iopub.execute_input": "2022-12-07T09:21:34.965860Z",
     "iopub.status.busy": "2022-12-07T09:21:34.965032Z",
     "iopub.status.idle": "2022-12-07T09:21:36.980445Z",
     "shell.execute_reply": "2022-12-07T09:21:36.978842Z"
    },
    "papermill": {
     "duration": 2.027767,
     "end_time": "2022-12-07T09:21:36.983512",
     "exception": false,
     "start_time": "2022-12-07T09:21:34.955745",
     "status": "completed"
    },
    "tags": []
   },
   "outputs": [],
   "source": [
    "import pandas as pd\n",
    "import numpy as np\n",
    "import matplotlib.pyplot as plt\n",
    "import seaborn as sns\n",
    "from sklearn.preprocessing import StandardScaler, LabelEncoder\n",
    "from sklearn.neighbors import KNeighborsClassifier\n",
    "from sklearn.model_selection import train_test_split\n",
    "from sklearn.ensemble import RandomForestClassifier\n",
    "import xgboost as xgb\n",
    "from xgboost import XGBClassifier"
   ]
  },
  {
   "cell_type": "code",
   "execution_count": 3,
   "id": "52d560fc",
   "metadata": {
    "execution": {
     "iopub.execute_input": "2022-12-07T09:21:36.996261Z",
     "iopub.status.busy": "2022-12-07T09:21:36.995772Z",
     "iopub.status.idle": "2022-12-07T09:21:37.575213Z",
     "shell.execute_reply": "2022-12-07T09:21:37.573618Z"
    },
    "papermill": {
     "duration": 0.58865,
     "end_time": "2022-12-07T09:21:37.577698",
     "exception": false,
     "start_time": "2022-12-07T09:21:36.989048",
     "status": "completed"
    },
    "tags": []
   },
   "outputs": [
    {
     "data": {
      "text/html": [
       "<div>\n",
       "<style scoped>\n",
       "    .dataframe tbody tr th:only-of-type {\n",
       "        vertical-align: middle;\n",
       "    }\n",
       "\n",
       "    .dataframe tbody tr th {\n",
       "        vertical-align: top;\n",
       "    }\n",
       "\n",
       "    .dataframe thead th {\n",
       "        text-align: right;\n",
       "    }\n",
       "</style>\n",
       "<table border=\"1\" class=\"dataframe\">\n",
       "  <thead>\n",
       "    <tr style=\"text-align: right;\">\n",
       "      <th></th>\n",
       "      <th>Area</th>\n",
       "      <th>MajorAxisLength</th>\n",
       "      <th>MinorAxisLength</th>\n",
       "      <th>Eccentricity</th>\n",
       "      <th>ConvexArea</th>\n",
       "      <th>Extent</th>\n",
       "      <th>Perimeter</th>\n",
       "      <th>Class</th>\n",
       "    </tr>\n",
       "  </thead>\n",
       "  <tbody>\n",
       "    <tr>\n",
       "      <th>0</th>\n",
       "      <td>87524</td>\n",
       "      <td>442.246011</td>\n",
       "      <td>253.291155</td>\n",
       "      <td>0.819738</td>\n",
       "      <td>90546</td>\n",
       "      <td>0.758651</td>\n",
       "      <td>1184.040</td>\n",
       "      <td>Kecimen</td>\n",
       "    </tr>\n",
       "    <tr>\n",
       "      <th>1</th>\n",
       "      <td>75166</td>\n",
       "      <td>406.690687</td>\n",
       "      <td>243.032436</td>\n",
       "      <td>0.801805</td>\n",
       "      <td>78789</td>\n",
       "      <td>0.684130</td>\n",
       "      <td>1121.786</td>\n",
       "      <td>Kecimen</td>\n",
       "    </tr>\n",
       "    <tr>\n",
       "      <th>2</th>\n",
       "      <td>90856</td>\n",
       "      <td>442.267048</td>\n",
       "      <td>266.328318</td>\n",
       "      <td>0.798354</td>\n",
       "      <td>93717</td>\n",
       "      <td>0.637613</td>\n",
       "      <td>1208.575</td>\n",
       "      <td>Kecimen</td>\n",
       "    </tr>\n",
       "    <tr>\n",
       "      <th>3</th>\n",
       "      <td>45928</td>\n",
       "      <td>286.540559</td>\n",
       "      <td>208.760042</td>\n",
       "      <td>0.684989</td>\n",
       "      <td>47336</td>\n",
       "      <td>0.699599</td>\n",
       "      <td>844.162</td>\n",
       "      <td>Kecimen</td>\n",
       "    </tr>\n",
       "    <tr>\n",
       "      <th>4</th>\n",
       "      <td>79408</td>\n",
       "      <td>352.190770</td>\n",
       "      <td>290.827533</td>\n",
       "      <td>0.564011</td>\n",
       "      <td>81463</td>\n",
       "      <td>0.792772</td>\n",
       "      <td>1073.251</td>\n",
       "      <td>Kecimen</td>\n",
       "    </tr>\n",
       "  </tbody>\n",
       "</table>\n",
       "</div>"
      ],
      "text/plain": [
       "    Area  MajorAxisLength  MinorAxisLength  Eccentricity  ConvexArea  \\\n",
       "0  87524       442.246011       253.291155      0.819738       90546   \n",
       "1  75166       406.690687       243.032436      0.801805       78789   \n",
       "2  90856       442.267048       266.328318      0.798354       93717   \n",
       "3  45928       286.540559       208.760042      0.684989       47336   \n",
       "4  79408       352.190770       290.827533      0.564011       81463   \n",
       "\n",
       "     Extent  Perimeter    Class  \n",
       "0  0.758651   1184.040  Kecimen  \n",
       "1  0.684130   1121.786  Kecimen  \n",
       "2  0.637613   1208.575  Kecimen  \n",
       "3  0.699599    844.162  Kecimen  \n",
       "4  0.792772   1073.251  Kecimen  "
      ]
     },
     "execution_count": 3,
     "metadata": {},
     "output_type": "execute_result"
    }
   ],
   "source": [
    "df=pd.read_excel('/kaggle/input/raisin-dataset/Raisin_Dataset.xlsx')\n",
    "df.head()"
   ]
  },
  {
   "cell_type": "markdown",
   "id": "d36ed9cf",
   "metadata": {
    "papermill": {
     "duration": 0.005569,
     "end_time": "2022-12-07T09:21:37.589552",
     "exception": false,
     "start_time": "2022-12-07T09:21:37.583983",
     "status": "completed"
    },
    "tags": []
   },
   "source": [
    "# EDA"
   ]
  },
  {
   "cell_type": "code",
   "execution_count": 4,
   "id": "f271bf0a",
   "metadata": {
    "execution": {
     "iopub.execute_input": "2022-12-07T09:21:37.602783Z",
     "iopub.status.busy": "2022-12-07T09:21:37.602379Z",
     "iopub.status.idle": "2022-12-07T09:21:37.612735Z",
     "shell.execute_reply": "2022-12-07T09:21:37.611670Z"
    },
    "papermill": {
     "duration": 0.019264,
     "end_time": "2022-12-07T09:21:37.614867",
     "exception": false,
     "start_time": "2022-12-07T09:21:37.595603",
     "status": "completed"
    },
    "tags": []
   },
   "outputs": [],
   "source": [
    "le=LabelEncoder()\n",
    "df['Class']=le.fit_transform(df['Class'])"
   ]
  },
  {
   "cell_type": "code",
   "execution_count": 5,
   "id": "84556142",
   "metadata": {
    "execution": {
     "iopub.execute_input": "2022-12-07T09:21:37.628058Z",
     "iopub.status.busy": "2022-12-07T09:21:37.627639Z",
     "iopub.status.idle": "2022-12-07T09:21:37.654090Z",
     "shell.execute_reply": "2022-12-07T09:21:37.652414Z"
    },
    "papermill": {
     "duration": 0.036632,
     "end_time": "2022-12-07T09:21:37.657355",
     "exception": false,
     "start_time": "2022-12-07T09:21:37.620723",
     "status": "completed"
    },
    "tags": []
   },
   "outputs": [
    {
     "name": "stdout",
     "output_type": "stream",
     "text": [
      "<class 'pandas.core.frame.DataFrame'>\n",
      "RangeIndex: 900 entries, 0 to 899\n",
      "Data columns (total 8 columns):\n",
      " #   Column           Non-Null Count  Dtype  \n",
      "---  ------           --------------  -----  \n",
      " 0   Area             900 non-null    int64  \n",
      " 1   MajorAxisLength  900 non-null    float64\n",
      " 2   MinorAxisLength  900 non-null    float64\n",
      " 3   Eccentricity     900 non-null    float64\n",
      " 4   ConvexArea       900 non-null    int64  \n",
      " 5   Extent           900 non-null    float64\n",
      " 6   Perimeter        900 non-null    float64\n",
      " 7   Class            900 non-null    int64  \n",
      "dtypes: float64(5), int64(3)\n",
      "memory usage: 56.4 KB\n"
     ]
    }
   ],
   "source": [
    "df.info()"
   ]
  },
  {
   "cell_type": "code",
   "execution_count": 6,
   "id": "aa0650ab",
   "metadata": {
    "execution": {
     "iopub.execute_input": "2022-12-07T09:21:37.672369Z",
     "iopub.status.busy": "2022-12-07T09:21:37.671730Z",
     "iopub.status.idle": "2022-12-07T09:21:37.711194Z",
     "shell.execute_reply": "2022-12-07T09:21:37.709767Z"
    },
    "papermill": {
     "duration": 0.050216,
     "end_time": "2022-12-07T09:21:37.714462",
     "exception": false,
     "start_time": "2022-12-07T09:21:37.664246",
     "status": "completed"
    },
    "tags": []
   },
   "outputs": [
    {
     "data": {
      "text/html": [
       "<div>\n",
       "<style scoped>\n",
       "    .dataframe tbody tr th:only-of-type {\n",
       "        vertical-align: middle;\n",
       "    }\n",
       "\n",
       "    .dataframe tbody tr th {\n",
       "        vertical-align: top;\n",
       "    }\n",
       "\n",
       "    .dataframe thead th {\n",
       "        text-align: right;\n",
       "    }\n",
       "</style>\n",
       "<table border=\"1\" class=\"dataframe\">\n",
       "  <thead>\n",
       "    <tr style=\"text-align: right;\">\n",
       "      <th></th>\n",
       "      <th>Area</th>\n",
       "      <th>MajorAxisLength</th>\n",
       "      <th>MinorAxisLength</th>\n",
       "      <th>Eccentricity</th>\n",
       "      <th>ConvexArea</th>\n",
       "      <th>Extent</th>\n",
       "      <th>Perimeter</th>\n",
       "      <th>Class</th>\n",
       "    </tr>\n",
       "  </thead>\n",
       "  <tbody>\n",
       "    <tr>\n",
       "      <th>count</th>\n",
       "      <td>900.000000</td>\n",
       "      <td>900.000000</td>\n",
       "      <td>900.000000</td>\n",
       "      <td>900.000000</td>\n",
       "      <td>900.000000</td>\n",
       "      <td>900.000000</td>\n",
       "      <td>900.000000</td>\n",
       "      <td>900.000000</td>\n",
       "    </tr>\n",
       "    <tr>\n",
       "      <th>mean</th>\n",
       "      <td>87804.127778</td>\n",
       "      <td>430.929950</td>\n",
       "      <td>254.488133</td>\n",
       "      <td>0.781542</td>\n",
       "      <td>91186.090000</td>\n",
       "      <td>0.699508</td>\n",
       "      <td>1165.906636</td>\n",
       "      <td>0.500000</td>\n",
       "    </tr>\n",
       "    <tr>\n",
       "      <th>std</th>\n",
       "      <td>39002.111390</td>\n",
       "      <td>116.035121</td>\n",
       "      <td>49.988902</td>\n",
       "      <td>0.090318</td>\n",
       "      <td>40769.290132</td>\n",
       "      <td>0.053468</td>\n",
       "      <td>273.764315</td>\n",
       "      <td>0.500278</td>\n",
       "    </tr>\n",
       "    <tr>\n",
       "      <th>min</th>\n",
       "      <td>25387.000000</td>\n",
       "      <td>225.629541</td>\n",
       "      <td>143.710872</td>\n",
       "      <td>0.348730</td>\n",
       "      <td>26139.000000</td>\n",
       "      <td>0.379856</td>\n",
       "      <td>619.074000</td>\n",
       "      <td>0.000000</td>\n",
       "    </tr>\n",
       "    <tr>\n",
       "      <th>25%</th>\n",
       "      <td>59348.000000</td>\n",
       "      <td>345.442898</td>\n",
       "      <td>219.111126</td>\n",
       "      <td>0.741766</td>\n",
       "      <td>61513.250000</td>\n",
       "      <td>0.670869</td>\n",
       "      <td>966.410750</td>\n",
       "      <td>0.000000</td>\n",
       "    </tr>\n",
       "    <tr>\n",
       "      <th>50%</th>\n",
       "      <td>78902.000000</td>\n",
       "      <td>407.803951</td>\n",
       "      <td>247.848409</td>\n",
       "      <td>0.798846</td>\n",
       "      <td>81651.000000</td>\n",
       "      <td>0.707367</td>\n",
       "      <td>1119.509000</td>\n",
       "      <td>0.500000</td>\n",
       "    </tr>\n",
       "    <tr>\n",
       "      <th>75%</th>\n",
       "      <td>105028.250000</td>\n",
       "      <td>494.187014</td>\n",
       "      <td>279.888575</td>\n",
       "      <td>0.842571</td>\n",
       "      <td>108375.750000</td>\n",
       "      <td>0.734991</td>\n",
       "      <td>1308.389750</td>\n",
       "      <td>1.000000</td>\n",
       "    </tr>\n",
       "    <tr>\n",
       "      <th>max</th>\n",
       "      <td>235047.000000</td>\n",
       "      <td>997.291941</td>\n",
       "      <td>492.275279</td>\n",
       "      <td>0.962124</td>\n",
       "      <td>278217.000000</td>\n",
       "      <td>0.835455</td>\n",
       "      <td>2697.753000</td>\n",
       "      <td>1.000000</td>\n",
       "    </tr>\n",
       "  </tbody>\n",
       "</table>\n",
       "</div>"
      ],
      "text/plain": [
       "                Area  MajorAxisLength  MinorAxisLength  Eccentricity  \\\n",
       "count     900.000000       900.000000       900.000000    900.000000   \n",
       "mean    87804.127778       430.929950       254.488133      0.781542   \n",
       "std     39002.111390       116.035121        49.988902      0.090318   \n",
       "min     25387.000000       225.629541       143.710872      0.348730   \n",
       "25%     59348.000000       345.442898       219.111126      0.741766   \n",
       "50%     78902.000000       407.803951       247.848409      0.798846   \n",
       "75%    105028.250000       494.187014       279.888575      0.842571   \n",
       "max    235047.000000       997.291941       492.275279      0.962124   \n",
       "\n",
       "          ConvexArea      Extent    Perimeter       Class  \n",
       "count     900.000000  900.000000   900.000000  900.000000  \n",
       "mean    91186.090000    0.699508  1165.906636    0.500000  \n",
       "std     40769.290132    0.053468   273.764315    0.500278  \n",
       "min     26139.000000    0.379856   619.074000    0.000000  \n",
       "25%     61513.250000    0.670869   966.410750    0.000000  \n",
       "50%     81651.000000    0.707367  1119.509000    0.500000  \n",
       "75%    108375.750000    0.734991  1308.389750    1.000000  \n",
       "max    278217.000000    0.835455  2697.753000    1.000000  "
      ]
     },
     "execution_count": 6,
     "metadata": {},
     "output_type": "execute_result"
    }
   ],
   "source": [
    "df.describe()"
   ]
  },
  {
   "cell_type": "code",
   "execution_count": 7,
   "id": "e43d84cf",
   "metadata": {
    "execution": {
     "iopub.execute_input": "2022-12-07T09:21:37.730797Z",
     "iopub.status.busy": "2022-12-07T09:21:37.730397Z",
     "iopub.status.idle": "2022-12-07T09:21:38.128722Z",
     "shell.execute_reply": "2022-12-07T09:21:38.126093Z"
    },
    "papermill": {
     "duration": 0.410473,
     "end_time": "2022-12-07T09:21:38.131014",
     "exception": false,
     "start_time": "2022-12-07T09:21:37.720541",
     "status": "completed"
    },
    "tags": []
   },
   "outputs": [
    {
     "data": {
      "text/plain": [
       "<AxesSubplot:>"
      ]
     },
     "execution_count": 7,
     "metadata": {},
     "output_type": "execute_result"
    },
    {
     "data": {
      "image/png": "[encoded data removed]",
      "text/plain": [
       "<Figure size 432x288 with 2 Axes>"
      ]
     },
     "metadata": {
      "needs_background": "light"
     },
     "output_type": "display_data"
    }
   ],
   "source": [
    "sns.heatmap(df.isna())"
   ]
  },
  {
   "cell_type": "code",
   "execution_count": 8,
   "id": "dbe3d470",
   "metadata": {
    "execution": {
     "iopub.execute_input": "2022-12-07T09:21:38.145208Z",
     "iopub.status.busy": "2022-12-07T09:21:38.144640Z",
     "iopub.status.idle": "2022-12-07T09:21:38.681698Z",
     "shell.execute_reply": "2022-12-07T09:21:38.680377Z"
    },
    "papermill": {
     "duration": 0.549119,
     "end_time": "2022-12-07T09:21:38.686341",
     "exception": false,
     "start_time": "2022-12-07T09:21:38.137222",
     "status": "completed"
    },
    "tags": []
   },
   "outputs": [
    {
     "data": {
      "text/plain": [
       "<AxesSubplot:>"
      ]
     },
     "execution_count": 8,
     "metadata": {},
     "output_type": "execute_result"
    },
    {
     "data": {
      "image/png": "[encoded data removed]",
      "text/plain": [
       "<Figure size 432x288 with 2 Axes>"
      ]
     },
     "metadata": {
      "needs_background": "light"
     },
     "output_type": "display_data"
    }
   ],
   "source": [
    "sns.heatmap(df.corr(),annot=True)"
   ]
  },
  {
   "cell_type": "code",
   "execution_count": 9,
   "id": "24e9aeac",
   "metadata": {
    "execution": {
     "iopub.execute_input": "2022-12-07T09:21:38.707905Z",
     "iopub.status.busy": "2022-12-07T09:21:38.706234Z",
     "iopub.status.idle": "2022-12-07T09:21:38.716900Z",
     "shell.execute_reply": "2022-12-07T09:21:38.714959Z"
    },
    "papermill": {
     "duration": 0.023948,
     "end_time": "2022-12-07T09:21:38.719901",
     "exception": false,
     "start_time": "2022-12-07T09:21:38.695953",
     "status": "completed"
    },
    "tags": []
   },
   "outputs": [
    {
     "data": {
      "text/plain": [
       "Index(['Area', 'MajorAxisLength', 'MinorAxisLength', 'Eccentricity',\n",
       "       'ConvexArea', 'Extent', 'Perimeter', 'Class'],\n",
       "      dtype='object')"
      ]
     },
     "execution_count": 9,
     "metadata": {},
     "output_type": "execute_result"
    }
   ],
   "source": [
    "df.columns"
   ]
  },
  {
   "cell_type": "code",
   "execution_count": 10,
   "id": "4db7e02e",
   "metadata": {
    "execution": {
     "iopub.execute_input": "2022-12-07T09:21:38.739293Z",
     "iopub.status.busy": "2022-12-07T09:21:38.738653Z",
     "iopub.status.idle": "2022-12-07T09:21:38.753426Z",
     "shell.execute_reply": "2022-12-07T09:21:38.751656Z"
    },
    "papermill": {
     "duration": 0.028884,
     "end_time": "2022-12-07T09:21:38.756866",
     "exception": false,
     "start_time": "2022-12-07T09:21:38.727982",
     "status": "completed"
    },
    "tags": []
   },
   "outputs": [],
   "source": [
    "sc=StandardScaler()\n",
    "X=sc.fit_transform(df[['Area','MajorAxisLength','MinorAxisLength','Eccentricity','ConvexArea','Extent','Perimeter']])"
   ]
  },
  {
   "cell_type": "code",
   "execution_count": 11,
   "id": "f65bb5d7",
   "metadata": {
    "execution": {
     "iopub.execute_input": "2022-12-07T09:21:38.772955Z",
     "iopub.status.busy": "2022-12-07T09:21:38.772561Z",
     "iopub.status.idle": "2022-12-07T09:21:39.056490Z",
     "shell.execute_reply": "2022-12-07T09:21:39.054494Z"
    },
    "papermill": {
     "duration": 0.295873,
     "end_time": "2022-12-07T09:21:39.059961",
     "exception": false,
     "start_time": "2022-12-07T09:21:38.764088",
     "status": "completed"
    },
    "tags": []
   },
   "outputs": [
    {
     "name": "stderr",
     "output_type": "stream",
     "text": [
      "/opt/conda/lib/python3.7/site-packages/seaborn/distributions.py:2619: FutureWarning: `distplot` is a deprecated function and will be removed in a future version. Please adapt your code to use either `displot` (a figure-level function with similar flexibility) or `histplot` (an axes-level function for histograms).\n",
      "  warnings.warn(msg, FutureWarning)\n"
     ]
    },
    {
     "data": {
      "text/plain": [
       "<AxesSubplot:ylabel='Density'>"
      ]
     },
     "execution_count": 11,
     "metadata": {},
     "output_type": "execute_result"
    },
    {
     "data": {
      "image/png": "[encoded data removed]",
      "text/plain": [
       "<Figure size 432x288 with 1 Axes>"
      ]
     },
     "metadata": {
      "needs_background": "light"
     },
     "output_type": "display_data"
    }
   ],
   "source": [
    "sns.distplot(X)"
   ]
  },
  {
   "cell_type": "code",
   "execution_count": 12,
   "id": "132d13ee",
   "metadata": {
    "execution": {
     "iopub.execute_input": "2022-12-07T09:21:39.077429Z",
     "iopub.status.busy": "2022-12-07T09:21:39.077042Z",
     "iopub.status.idle": "2022-12-07T09:21:39.086208Z",
     "shell.execute_reply": "2022-12-07T09:21:39.084939Z"
    },
    "papermill": {
     "duration": 0.021351,
     "end_time": "2022-12-07T09:21:39.089250",
     "exception": false,
     "start_time": "2022-12-07T09:21:39.067899",
     "status": "completed"
    },
    "tags": []
   },
   "outputs": [
    {
     "data": {
      "text/plain": [
       "array([[-0.00718637,  0.09757695, -0.02395819, ..., -0.01570903,\n",
       "         1.10674264,  0.06627397],\n",
       "       [-0.32421719, -0.20901207, -0.22929222, ..., -0.3042482 ,\n",
       "        -0.28777679, -0.16125245],\n",
       "       [ 0.07829241,  0.09775835,  0.23698797, ...,  0.06211335,\n",
       "        -1.15824974,  0.15594468],\n",
       "       ...,\n",
       "       [ 0.30407232,  0.00670023,  0.88767401, ...,  0.37004063,\n",
       "         0.77828911,  0.46387322],\n",
       "       [ 0.14671134,  0.39160036, -0.00624644, ...,  0.15871029,\n",
       "        -0.76180437,  0.3385864 ],\n",
       "       [-0.05631357,  0.69976181, -0.78493347, ..., -0.04881606,\n",
       "        -1.26290931,  0.39090133]])"
      ]
     },
     "execution_count": 12,
     "metadata": {},
     "output_type": "execute_result"
    }
   ],
   "source": [
    "X"
   ]
  },
  {
   "cell_type": "code",
   "execution_count": 13,
   "id": "d66c8006",
   "metadata": {
    "execution": {
     "iopub.execute_input": "2022-12-07T09:21:39.106405Z",
     "iopub.status.busy": "2022-12-07T09:21:39.105966Z",
     "iopub.status.idle": "2022-12-07T09:21:39.113235Z",
     "shell.execute_reply": "2022-12-07T09:21:39.111285Z"
    },
    "papermill": {
     "duration": 0.019414,
     "end_time": "2022-12-07T09:21:39.116458",
     "exception": false,
     "start_time": "2022-12-07T09:21:39.097044",
     "status": "completed"
    },
    "tags": []
   },
   "outputs": [],
   "source": [
    "Y=df['Class']"
   ]
  },
  {
   "cell_type": "code",
   "execution_count": 14,
   "id": "df62a9e1",
   "metadata": {
    "execution": {
     "iopub.execute_input": "2022-12-07T09:21:39.135438Z",
     "iopub.status.busy": "2022-12-07T09:21:39.134893Z",
     "iopub.status.idle": "2022-12-07T09:21:39.142450Z",
     "shell.execute_reply": "2022-12-07T09:21:39.141128Z"
    },
    "papermill": {
     "duration": 0.020654,
     "end_time": "2022-12-07T09:21:39.144967",
     "exception": false,
     "start_time": "2022-12-07T09:21:39.124313",
     "status": "completed"
    },
    "tags": []
   },
   "outputs": [],
   "source": [
    "x_train,x_test,y_train,y_test=train_test_split(X,Y,test_size=0.25,random_state=1)"
   ]
  },
  {
   "cell_type": "markdown",
   "id": "5c8d9b7d",
   "metadata": {
    "papermill": {
     "duration": 0.008183,
     "end_time": "2022-12-07T09:21:39.161068",
     "exception": false,
     "start_time": "2022-12-07T09:21:39.152885",
     "status": "completed"
    },
    "tags": []
   },
   "source": [
    "# Model Building"
   ]
  },
  {
   "cell_type": "code",
   "execution_count": 15,
   "id": "1bca5ad9",
   "metadata": {
    "execution": {
     "iopub.execute_input": "2022-12-07T09:21:39.179548Z",
     "iopub.status.busy": "2022-12-07T09:21:39.179159Z",
     "iopub.status.idle": "2022-12-07T09:21:39.186003Z",
     "shell.execute_reply": "2022-12-07T09:21:39.184654Z"
    },
    "papermill": {
     "duration": 0.019246,
     "end_time": "2022-12-07T09:21:39.188921",
     "exception": false,
     "start_time": "2022-12-07T09:21:39.169675",
     "status": "completed"
    },
    "tags": []
   },
   "outputs": [],
   "source": [
    "def predict(model):\n",
    "    model.fit(x_train,y_train)\n",
    "    y_pred=model.predict(x_test)\n",
    "    trainac=model.score(x_train,y_train)\n",
    "    testac=model.score(x_test,y_test)\n",
    "    \n",
    "    print(f\"Training Accuracy {trainac}\\nTesting Accuracy {testac}\")"
   ]
  },
  {
   "cell_type": "markdown",
   "id": "add20e7c",
   "metadata": {
    "papermill": {
     "duration": 0.007244,
     "end_time": "2022-12-07T09:21:39.204275",
     "exception": false,
     "start_time": "2022-12-07T09:21:39.197031",
     "status": "completed"
    },
    "tags": []
   },
   "source": [
    "# Testing of Model"
   ]
  },
  {
   "cell_type": "code",
   "execution_count": 16,
   "id": "bedca771",
   "metadata": {
    "execution": {
     "iopub.execute_input": "2022-12-07T09:21:39.221746Z",
     "iopub.status.busy": "2022-12-07T09:21:39.221246Z",
     "iopub.status.idle": "2022-12-07T09:21:39.229881Z",
     "shell.execute_reply": "2022-12-07T09:21:39.228021Z"
    },
    "papermill": {
     "duration": 0.021737,
     "end_time": "2022-12-07T09:21:39.233509",
     "exception": false,
     "start_time": "2022-12-07T09:21:39.211772",
     "status": "completed"
    },
    "tags": []
   },
   "outputs": [],
   "source": [
    "XX_test=pd.DataFrame({'Area':87524,'MijorAxisLength':442.246011,'MinorAxisLength':253.291155,'Eccentricity':0.819738,'ConvexArea':90546,'Extent':0.758651,'Perimeter':1184.040},index=[0])"
   ]
  },
  {
   "cell_type": "code",
   "execution_count": 17,
   "id": "09eadef2",
   "metadata": {
    "execution": {
     "iopub.execute_input": "2022-12-07T09:21:39.250808Z",
     "iopub.status.busy": "2022-12-07T09:21:39.250415Z",
     "iopub.status.idle": "2022-12-07T09:21:39.261515Z",
     "shell.execute_reply": "2022-12-07T09:21:39.260606Z"
    },
    "papermill": {
     "duration": 0.022368,
     "end_time": "2022-12-07T09:21:39.263655",
     "exception": false,
     "start_time": "2022-12-07T09:21:39.241287",
     "status": "completed"
    },
    "tags": []
   },
   "outputs": [
    {
     "data": {
      "text/html": [
       "<div>\n",
       "<style scoped>\n",
       "    .dataframe tbody tr th:only-of-type {\n",
       "        vertical-align: middle;\n",
       "    }\n",
       "\n",
       "    .dataframe tbody tr th {\n",
       "        vertical-align: top;\n",
       "    }\n",
       "\n",
       "    .dataframe thead th {\n",
       "        text-align: right;\n",
       "    }\n",
       "</style>\n",
       "<table border=\"1\" class=\"dataframe\">\n",
       "  <thead>\n",
       "    <tr style=\"text-align: right;\">\n",
       "      <th></th>\n",
       "      <th>Area</th>\n",
       "      <th>MijorAxisLength</th>\n",
       "      <th>MinorAxisLength</th>\n",
       "      <th>Eccentricity</th>\n",
       "      <th>ConvexArea</th>\n",
       "      <th>Extent</th>\n",
       "      <th>Perimeter</th>\n",
       "    </tr>\n",
       "  </thead>\n",
       "  <tbody>\n",
       "    <tr>\n",
       "      <th>0</th>\n",
       "      <td>87524</td>\n",
       "      <td>442.246011</td>\n",
       "      <td>253.291155</td>\n",
       "      <td>0.819738</td>\n",
       "      <td>90546</td>\n",
       "      <td>0.758651</td>\n",
       "      <td>1184.04</td>\n",
       "    </tr>\n",
       "  </tbody>\n",
       "</table>\n",
       "</div>"
      ],
      "text/plain": [
       "    Area  MijorAxisLength  MinorAxisLength  Eccentricity  ConvexArea  \\\n",
       "0  87524       442.246011       253.291155      0.819738       90546   \n",
       "\n",
       "     Extent  Perimeter  \n",
       "0  0.758651    1184.04  "
      ]
     },
     "execution_count": 17,
     "metadata": {},
     "output_type": "execute_result"
    }
   ],
   "source": [
    "XX_test"
   ]
  },
  {
   "cell_type": "code",
   "execution_count": 18,
   "id": "0f169173",
   "metadata": {
    "execution": {
     "iopub.execute_input": "2022-12-07T09:21:39.281223Z",
     "iopub.status.busy": "2022-12-07T09:21:39.280882Z",
     "iopub.status.idle": "2022-12-07T09:21:39.556009Z",
     "shell.execute_reply": "2022-12-07T09:21:39.555286Z"
    },
    "papermill": {
     "duration": 0.286768,
     "end_time": "2022-12-07T09:21:39.558374",
     "exception": false,
     "start_time": "2022-12-07T09:21:39.271606",
     "status": "completed"
    },
    "tags": []
   },
   "outputs": [
    {
     "name": "stdout",
     "output_type": "stream",
     "text": [
      "Training Accuracy 0.9511111111111111\n",
      "Testing Accuracy 0.8888888888888888\n"
     ]
    }
   ],
   "source": [
    "model=XGBClassifier(max_depth=2)\n",
    "model.fit(x_train,y_train)\n",
    "y_pred=model.predict(x_test)\n",
    "trainac=model.score(x_train,y_train)\n",
    "testac=model.score(x_test,y_test)\n",
    "print(f\"Training Accuracy {trainac}\\nTesting Accuracy {testac}\")"
   ]
  },
  {
   "cell_type": "code",
   "execution_count": 19,
   "id": "ebabbdeb",
   "metadata": {
    "execution": {
     "iopub.execute_input": "2022-12-07T09:21:39.577323Z",
     "iopub.status.busy": "2022-12-07T09:21:39.576021Z",
     "iopub.status.idle": "2022-12-07T09:21:39.589275Z",
     "shell.execute_reply": "2022-12-07T09:21:39.588476Z"
    },
    "papermill": {
     "duration": 0.024632,
     "end_time": "2022-12-07T09:21:39.591555",
     "exception": false,
     "start_time": "2022-12-07T09:21:39.566923",
     "status": "completed"
    },
    "tags": []
   },
   "outputs": [
    {
     "data": {
      "text/plain": [
       "array([0])"
      ]
     },
     "execution_count": 19,
     "metadata": {},
     "output_type": "execute_result"
    }
   ],
   "source": [
    "y_pred=model.predict(XX_test)\n",
    "y_pred"
   ]
  },
  {
   "cell_type": "code",
   "execution_count": null,
   "id": "5a5ca6fc",
   "metadata": {
    "papermill": {
     "duration": 0.007567,
     "end_time": "2022-12-07T09:21:39.606809",
     "exception": false,
     "start_time": "2022-12-07T09:21:39.599242",
     "status": "completed"
    },
    "tags": []
   },
   "outputs": [],
   "source": []
  }
 ],
 "metadata": {
  "kernelspec": {
   "display_name": "Python 3",
   "language": "python",
   "name": "python3"
  },
  "language_info": {
   "codemirror_mode": {
    "name": "ipython",
    "version": 3
   },
   "file_extension": ".py",
   "mimetype": "text/x-python",
   "name": "python",
   "nbconvert_exporter": "python",
   "pygments_lexer": "ipython3",
   "version": "3.7.12"
  },
  "papermill": {
   "default_parameters": {},
   "duration": 13.881232,
   "end_time": "2022-12-07T09:21:40.536944",
   "environment_variables": {},
   "exception": null,
   "input_path": "__notebook__.ipynb",
   "output_path": "__notebook__.ipynb",
   "parameters": {},
   "start_time": "2022-12-07T09:21:26.655712",
   "version": "2.3.4"
  }
 },
 "nbformat": 4,
 "nbformat_minor": 5
}
